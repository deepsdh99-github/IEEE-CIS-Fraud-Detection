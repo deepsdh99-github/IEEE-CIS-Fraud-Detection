{
  "nbformat": 4,
  "nbformat_minor": 0,
  "metadata": {
    "colab": {
      "name": "Untitled2",
      "version": "0.3.2",
      "provenance": [],
      "collapsed_sections": []
    },
    "kernelspec": {
      "name": "python3",
      "display_name": "Python 3"
    },
    "accelerator": "GPU"
  },
  "cells": [
    {
      "cell_type": "code",
      "metadata": {
        "id": "1Rv9OYtUiz4I",
        "colab_type": "code",
        "colab": {}
      },
      "source": [
        "from google.colab import drive\n",
        "drive.mount('/content/drive')"
      ],
      "execution_count": 0,
      "outputs": []
    },
    {
      "cell_type": "code",
      "metadata": {
        "id": "CDBY5Ru1mbSJ",
        "colab_type": "code",
        "colab": {}
      },
      "source": [
        "# !pip install bayesian-optimization\n",
        "# !pip install catboost"
      ],
      "execution_count": 0,
      "outputs": []
    },
    {
      "cell_type": "code",
      "metadata": {
        "id": "1qXzmoEji78f",
        "colab_type": "code",
        "colab": {}
      },
      "source": [
        "import os\n",
        "import gc\n",
        "import numpy as np \n",
        "import pandas as pd\n",
        "from sklearn.preprocessing import LabelEncoder\n",
        "from sklearn.model_selection import train_test_split, StratifiedKFold\n",
        "from bayes_opt import BayesianOptimization\n",
        "from datetime import datetime\n",
        "from sklearn.metrics import precision_score, recall_score, confusion_matrix, accuracy_score, roc_auc_score, f1_score, roc_curve, auc, precision_recall_curve\n",
        "\n",
        "from sklearn import metrics\n",
        "from sklearn import preprocessing\n",
        "import catboost\n",
        "from catboost import Pool\n",
        "\n",
        "# Suppr warning\n",
        "import warnings\n",
        "warnings.filterwarnings(\"ignore\")\n",
        "\n",
        "import itertools\n",
        "from scipy import interp\n",
        "\n",
        "# Plots\n",
        "import seaborn as sns\n",
        "import matplotlib.pyplot as plt\n",
        "%matplotlib inline\n",
        "from matplotlib import rcParams"
      ],
      "execution_count": 0,
      "outputs": []
    },
    {
      "cell_type": "code",
      "metadata": {
        "id": "A_NGXSgLlaaw",
        "colab_type": "code",
        "colab": {}
      },
      "source": [
        "path = 'drive/My Drive/gitHub/IEEE-CIS-Fraud-Detection/data'\n",
        "print(os.listdir(path))\n",
        "\n",
        "path = 'drive/My\\ Drive/gitHub/IEEE-CIS-Fraud-Detection/data/*'\n",
        "os.system('cat {} > data1.zip'.format(path))  # recreate zip file"
      ],
      "execution_count": 0,
      "outputs": []
    },
    {
      "cell_type": "code",
      "metadata": {
        "id": "M9mWn3kulnAc",
        "colab_type": "code",
        "colab": {}
      },
      "source": [
        "os.system('unzip data1.zip -d data')  # unzip input data to data folder"
      ],
      "execution_count": 0,
      "outputs": []
    },
    {
      "cell_type": "code",
      "metadata": {
        "id": "kmlURBUCmwo-",
        "colab_type": "code",
        "colab": {}
      },
      "source": [
        "train_trans = pd.read_csv('data/train_transaction.csv')\n",
        "test_trans = pd.read_csv('data/test_transaction.csv')\n",
        "train_iden = pd.read_csv('data/train_identity.csv')\n",
        "test_iden = pd.read_csv('data/test_identity.csv')"
      ],
      "execution_count": 0,
      "outputs": []
    },
    {
      "cell_type": "code",
      "metadata": {
        "id": "umVMBw9gnD1r",
        "colab_type": "code",
        "colab": {}
      },
      "source": [
        "train_trans.shape, test_trans.shape, train_iden.shape, test_iden.shape"
      ],
      "execution_count": 0,
      "outputs": []
    },
    {
      "cell_type": "code",
      "metadata": {
        "id": "zQ6kphAUnXyV",
        "colab_type": "code",
        "colab": {}
      },
      "source": [
        "df_train = train_trans.merge(train_iden, on=\"TransactionID\", how=\"left\")\n",
        "df_test = test_trans.merge(test_iden, on=\"TransactionID\", how=\"left\")"
      ],
      "execution_count": 0,
      "outputs": []
    },
    {
      "cell_type": "code",
      "metadata": {
        "id": "sNAamM3MnraF",
        "colab_type": "code",
        "colab": {}
      },
      "source": [
        "del train_iden, train_trans, test_iden, test_trans\n",
        "\n",
        "gc.collect()"
      ],
      "execution_count": 0,
      "outputs": []
    },
    {
      "cell_type": "code",
      "metadata": {
        "id": "KXtnhjlMn89C",
        "colab_type": "code",
        "colab": {}
      },
      "source": [
        "df_train.head()"
      ],
      "execution_count": 0,
      "outputs": []
    },
    {
      "cell_type": "code",
      "metadata": {
        "id": "pEJMiGaa1-cT",
        "colab_type": "code",
        "colab": {}
      },
      "source": [
        "df_train.head()"
      ],
      "execution_count": 0,
      "outputs": []
    },
    {
      "cell_type": "code",
      "metadata": {
        "id": "7sMcevBRoNyT",
        "colab_type": "code",
        "colab": {}
      },
      "source": [
        "df_train.fillna(-999, inplace=True)\n",
        "df_test.fillna(-999, inplace=True)"
      ],
      "execution_count": 0,
      "outputs": []
    },
    {
      "cell_type": "code",
      "metadata": {
        "id": "PYVswG5joR24",
        "colab_type": "code",
        "colab": {}
      },
      "source": [
        "df_train.dtypes"
      ],
      "execution_count": 0,
      "outputs": []
    },
    {
      "cell_type": "code",
      "metadata": {
        "id": "QtSDSwQ8olsX",
        "colab_type": "code",
        "colab": {}
      },
      "source": [
        "# Label Encoding\n",
        "for f in df_train.columns:\n",
        "    if  df_train[f].dtype=='object': \n",
        "        lbl = preprocessing.LabelEncoder()\n",
        "        lbl.fit(list(df_train[f].values) + list(df_test[f].values))\n",
        "        df_train[f] = lbl.transform(list(df_train[f].values))\n",
        "        df_test[f] = lbl.transform(list(df_test[f].values))\n",
        "        \n",
        "df_train = df_train.reset_index()\n",
        "df_test = df_test.reset_index()"
      ],
      "execution_count": 0,
      "outputs": []
    },
    {
      "cell_type": "code",
      "metadata": {
        "id": "u6UohjjRzQLu",
        "colab_type": "code",
        "colab": {}
      },
      "source": [
        "features = list(df_train)\n",
        "features.remove('isFraud')\n",
        "target = 'isFraud'"
      ],
      "execution_count": 0,
      "outputs": []
    },
    {
      "cell_type": "code",
      "metadata": {
        "id": "l3AvijSz3B64",
        "colab_type": "code",
        "colab": {}
      },
      "source": [
        "param_cb = {\n",
        "        'learning_rate': 0.09445645065743215,\n",
        "        'bagging_temperature': 0.39963209507789, \n",
        "        'l2_leaf_reg': int(22.165305913463673),\n",
        "        'depth': int(7.920859337748043), \n",
        "        'max_leaves': 48,\n",
        "        'max_bin':255,\n",
        "        'iterations' : 1000,\n",
        "        'task_type':'GPU',\n",
        "        'loss_function' : \"Logloss\",\n",
        "        'objective':'CrossEntropy',\n",
        "        'eval_metric' : \"AUC\",\n",
        "        'bootstrap_type' : 'Bayesian',\n",
        "        'random_seed':1337,\n",
        "        'early_stopping_rounds' : 100,\n",
        "        'use_best_model':True \n",
        "    }"
      ],
      "execution_count": 0,
      "outputs": []
    },
    {
      "cell_type": "code",
      "metadata": {
        "id": "tHZIAnDp3EDV",
        "colab_type": "code",
        "colab": {}
      },
      "source": [
        "plt.rcParams[\"axes.grid\"] = True\n",
        "\n",
        "nfold = 5\n",
        "skf = StratifiedKFold(n_splits=nfold, shuffle=True, random_state=42)\n",
        "\n",
        "oof = np.zeros(len(df_train))\n",
        "mean_fpr = np.linspace(0,1,100)\n",
        "cms= []\n",
        "tprs = []\n",
        "aucs = []\n",
        "y_real = []\n",
        "y_proba = []\n",
        "recalls = []\n",
        "roc_aucs = []\n",
        "f1_scores = []\n",
        "accuracies = []\n",
        "precisions = []\n",
        "predictions = np.zeros(len(df_test))\n",
        "feature_importance_df = pd.DataFrame()"
      ],
      "execution_count": 0,
      "outputs": []
    },
    {
      "cell_type": "code",
      "metadata": {
        "id": "7xJYFMP5IybW",
        "colab_type": "code",
        "colab": {}
      },
      "source": [
        "i = 1\n",
        "\n",
        "for train_idx, valid_idx in skf.split(df_train, df_train.isFraud.values):\n",
        "    print(\"\\nfold {}\".format(i))\n",
        "    trn_data = Pool(df_train.iloc[train_idx][features].values,\n",
        "                   label=df_train.iloc[train_idx][target].values\n",
        "                   )\n",
        "    val_data = Pool(df_train.iloc[valid_idx][features].values,\n",
        "                   label=df_train.iloc[valid_idx][target].values\n",
        "                   )   \n",
        "\n",
        "    clf = catboost.train(trn_data, param_cb, eval_set= val_data, verbose = 300)\n",
        "\n",
        "    oof[valid_idx]  = clf.predict(df_train.iloc[valid_idx][features].values)   \n",
        "    oof[valid_idx]  = np.exp(oof[valid_idx]) / (1 + np.exp(oof[valid_idx]))\n",
        "    \n",
        "    predictions += clf.predict(df_test[features]) / nfold\n",
        "    predictions = np.exp(predictions)/(1 + np.exp(predictions))\n",
        "    \n",
        "    # Scores \n",
        "    roc_aucs.append(roc_auc_score(df_train.iloc[valid_idx][target].values, oof[valid_idx]))\n",
        "    accuracies.append(accuracy_score(df_train.iloc[valid_idx][target].values, oof[valid_idx].round()))\n",
        "    recalls.append(recall_score(df_train.iloc[valid_idx][target].values, oof[valid_idx].round()))\n",
        "    precisions.append(precision_score(df_train.iloc[valid_idx][target].values ,oof[valid_idx].round()))\n",
        "    f1_scores.append(f1_score(df_train.iloc[valid_idx][target].values, oof[valid_idx].round()))\n",
        "    \n",
        "    # Roc curve by fold\n",
        "    f = plt.figure(1)\n",
        "    fpr, tpr, t = roc_curve(df_train.iloc[valid_idx][target].values, oof[valid_idx])\n",
        "    tprs.append(interp(mean_fpr, fpr, tpr))\n",
        "    roc_auc = auc(fpr, tpr)\n",
        "    aucs.append(roc_auc)\n",
        "    plt.plot(fpr, tpr, lw=2, alpha=0.3, label='ROC fold %d (AUC = %0.4f)' % (i,roc_auc))\n",
        "\n",
        "    # Precion recall by folds\n",
        "    g = plt.figure(2)\n",
        "    precision, recall, _ = precision_recall_curve(df_train.iloc[valid_idx][target].values, oof[valid_idx])\n",
        "    y_real.append(df_train.iloc[valid_idx][target].values)\n",
        "    y_proba.append(oof[valid_idx])\n",
        "    plt.plot(recall, precision, lw=2, alpha=0.3, label='P|R fold %d' % (i))  \n",
        "    \n",
        "    i= i+1\n",
        "    \n",
        "    # Confusion matrix by folds\n",
        "    cms.append(confusion_matrix(df_train.iloc[valid_idx][target].values, oof[valid_idx].round()))\n",
        "    \n",
        "    # Features imp\n",
        "    fold_importance_df = pd.DataFrame()\n",
        "    fold_importance_df[\"Feature\"] = features\n",
        "    fold_importance_df[\"importance\"] = clf.get_feature_importance()\n",
        "    fold_importance_df[\"fold\"] = nfold + 1\n",
        "    feature_importance_df = pd.concat([feature_importance_df, fold_importance_df], axis=0)"
      ],
      "execution_count": 0,
      "outputs": []
    },
    {
      "cell_type": "code",
      "metadata": {
        "id": "oEUdZvzrLXrd",
        "colab_type": "code",
        "colab": {}
      },
      "source": [
        "# Metrics\n",
        "print(\n",
        "        '\\nCV roc score        : {0:.4f}, std: {1:.4f}.'.format(np.mean(roc_aucs), np.std(roc_aucs)),\n",
        "        '\\nCV accuracy score   : {0:.4f}, std: {1:.4f}.'.format(np.mean(accuracies), np.std(accuracies)),\n",
        "        '\\nCV recall score     : {0:.4f}, std: {1:.4f}.'.format(np.mean(recalls), np.std(recalls)),\n",
        "        '\\nCV precision score  : {0:.4f}, std: {1:.4f}.'.format(np.mean(precisions), np.std(precisions)),\n",
        "        '\\nCV f1 score         : {0:.4f}, std: {1:.4f}.'.format(np.mean(f1_scores), np.std(f1_scores))\n",
        "    )"
      ],
      "execution_count": 0,
      "outputs": []
    },
    {
      "cell_type": "code",
      "metadata": {
        "id": "G9BTyBLfQb-B",
        "colab_type": "code",
        "colab": {}
      },
      "source": [
        "# Confusion matrix \n",
        "def plot_confusion_matrix(cm, classes,\n",
        "                          normalize = False,\n",
        "                          title = 'Confusion matrix\"',\n",
        "                          cmap = plt.cm.Blues) :\n",
        "    plt.imshow(cm, interpolation = 'nearest', cmap = cmap)\n",
        "    plt.title(title)\n",
        "    plt.colorbar()\n",
        "    tick_marks = np.arange(len(classes))\n",
        "    plt.xticks(tick_marks, classes, rotation = 0)\n",
        "    plt.yticks(tick_marks, classes)\n",
        "\n",
        "    thresh = cm.max() / 2.\n",
        "    for i, j in itertools.product(range(cm.shape[0]), range(cm.shape[1])) :\n",
        "        plt.text(j, i, cm[i, j],\n",
        "                 horizontalalignment = 'center',\n",
        "                 color = 'white' if cm[i, j] > thresh else 'black')\n",
        " \n",
        "    plt.tight_layout()\n",
        "    plt.ylabel('True label')\n",
        "    plt.xlabel('Predicted label')"
      ],
      "execution_count": 0,
      "outputs": []
    },
    {
      "cell_type": "code",
      "metadata": {
        "id": "OF5Tq3DuL8_8",
        "colab_type": "code",
        "colab": {}
      },
      "source": [
        "#ROC\n",
        "f = plt.figure(1)\n",
        "plt.plot([0,1],[0,1],linestyle = '--',lw = 2,color = 'grey')\n",
        "mean_tpr = np.mean(tprs, axis=0)\n",
        "mean_auc = auc(mean_fpr, mean_tpr)\n",
        "plt.plot(mean_fpr, mean_tpr, color='blue',\n",
        "         label=r'Mean ROC (AUC = %0.4f)' % (np.mean(roc_aucs)),lw=2, alpha=1)\n",
        "\n",
        "plt.xlabel('False Positive Rate')\n",
        "plt.ylabel('True Positive Rate')\n",
        "plt.title('Catboost ROC curve by folds')\n",
        "plt.legend(loc=\"lower right\")\n",
        "\n",
        "# PR plt\n",
        "g = plt.figure(2)\n",
        "plt.plot([0,1],[1,0],linestyle = '--',lw = 2,color = 'grey')\n",
        "y_real = np.concatenate(y_real)\n",
        "y_proba = np.concatenate(y_proba)\n",
        "precision, recall, _ = precision_recall_curve(y_real, y_proba)\n",
        "plt.plot(recall, precision, color='blue',\n",
        "         label=r'Mean P|R')\n",
        "plt.xlabel('Recall')\n",
        "plt.ylabel('Precision')\n",
        "plt.title('Catboost P|R curve by folds')\n",
        "plt.legend(loc=\"lower left\")\n",
        "\n",
        "# Confusion maxtrix & metrics\n",
        "plt.rcParams[\"axes.grid\"] = False\n",
        "cm = np.average(cms, axis=0)\n",
        "class_names = [0,1]\n",
        "plt.figure()\n",
        "plot_confusion_matrix(cm, \n",
        "                      classes=class_names, \n",
        "                      title= 'CB Confusion matrix [averaged/folds]')\n",
        "plt.show()"
      ],
      "execution_count": 0,
      "outputs": []
    },
    {
      "cell_type": "code",
      "metadata": {
        "id": "LtyMBSotVjJA",
        "colab_type": "code",
        "outputId": "c0ef220e-5ea4-4aa8-c9a9-39ecebe99ad9",
        "colab": {
          "base_uri": "https://localhost:8080/",
          "height": 311
        }
      },
      "source": [
        "# Confusion maxtrix & metrics\n",
        "plt.rcParams[\"axes.grid\"] = False\n",
        "cm = np.average(cms, axis=0)\n",
        "class_names = [0,1]\n",
        "plt.figure()\n",
        "plot_confusion_matrix(cm, \n",
        "                      classes=class_names, \n",
        "                      title= 'CB Confusion matrix [averaged/folds]')\n",
        "plt.show()"
      ],
      "execution_count": 0,
      "outputs": [
        {
          "output_type": "display_data",
          "data": {
            "image/png": "[encoded data removed]",
            "text/plain": [
              "<Figure size 432x288 with 2 Axes>"
            ]
          },
          "metadata": {
            "tags": []
          }
        }
      ]
    },
    {
      "cell_type": "code",
      "metadata": {
        "id": "S_ZGM9bZPZak",
        "colab_type": "code",
        "colab": {}
      },
      "source": [
        "plt.style.use('dark_background')\n",
        "cols = (feature_importance_df[[\"Feature\", \"importance\"]]\n",
        "    .groupby(\"Feature\")\n",
        "    .mean()\n",
        "    .sort_values(by=\"importance\", ascending=False)[:30].index)\n",
        "best_features = feature_importance_df.loc[feature_importance_df.Feature.isin(cols)]\n",
        "\n",
        "plt.figure(figsize=(10,10))\n",
        "sns.barplot(x=\"importance\", y=\"Feature\", data=best_features.sort_values(by=\"importance\",ascending=False),\n",
        "        edgecolor=('white'), linewidth=2, palette=\"rocket\")\n",
        "plt.title('CB Features importance (averaged/folds)', fontsize=18)\n",
        "plt.tight_layout()"
      ],
      "execution_count": 0,
      "outputs": []
    },
    {
      "cell_type": "code",
      "metadata": {
        "id": "NdRuMjf8Q5ZP",
        "colab_type": "code",
        "colab": {}
      },
      "source": [
        "sample_submission = pd.read_csv('data/sample_submission.csv', index_col='TransactionID')\n",
        "sample_submission['isFraud'] = predictions\n",
        "sample_submission.to_csv('submission_IEEE.csv')"
      ],
      "execution_count": 0,
      "outputs": []
    },
    {
      "cell_type": "code",
      "metadata": {
        "id": "0-W03Ki0a_vm",
        "colab_type": "code",
        "colab": {}
      },
      "source": [
        ""
      ],
      "execution_count": 0,
      "outputs": []
    }
  ]
}